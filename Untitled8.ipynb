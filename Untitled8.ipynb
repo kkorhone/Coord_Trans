{
  "nbformat": 4,
  "nbformat_minor": 0,
  "metadata": {
    "colab": {
      "provenance": [],
      "collapsed_sections": [],
      "authorship_tag": "ABX9TyMv2cUxaql1I9VJ6uuDj1rK",
      "include_colab_link": true
    },
    "kernelspec": {
      "name": "python3",
      "display_name": "Python 3"
    },
    "language_info": {
      "name": "python"
    },
    "accelerator": "GPU"
  },
  "cells": [
    {
      "cell_type": "markdown",
      "metadata": {
        "id": "view-in-github",
        "colab_type": "text"
      },
      "source": [
        "<a href=\"https://colab.research.google.com/github/kkorhone/Coord_Trans/blob/main/Untitled8.ipynb\" target=\"_parent\"><img src=\"https://colab.research.google.com/assets/colab-badge.svg\" alt=\"Open In Colab\"/></a>"
      ]
    },
    {
      "cell_type": "code",
      "execution_count": 1,
      "metadata": {
        "colab": {
          "base_uri": "https://localhost:8080/",
          "height": 627
        },
        "id": "Od-TFsp1NO00",
        "outputId": "2c0d1ac5-e5e6-4a84-ffe7-ba6b751b3567"
      },
      "outputs": [
        {
          "output_type": "stream",
          "name": "stdout",
          "text": [
            "Looking in indexes: https://pypi.org/simple, https://us-python.pkg.dev/colab-wheels/public/simple/\n",
            "Collecting pygfunction\n",
            "  Downloading pygfunction-2.2.1-py3-none-any.whl (89 kB)\n",
            "\u001b[K     |████████████████████████████████| 89 kB 3.9 MB/s \n",
            "\u001b[?25hCollecting coolprop>=6.4.1\n",
            "  Downloading CoolProp-6.4.1-cp37-cp37m-manylinux_2_17_x86_64.manylinux2014_x86_64.whl (44.2 MB)\n",
            "\u001b[K     |████████████████████████████████| 44.2 MB 2.1 MB/s \n",
            "\u001b[?25hRequirement already satisfied: scipy>=1.7.3 in /usr/local/lib/python3.7/dist-packages (from pygfunction) (1.7.3)\n",
            "Collecting matplotlib>=3.5.1\n",
            "  Downloading matplotlib-3.5.3-cp37-cp37m-manylinux_2_5_x86_64.manylinux1_x86_64.whl (11.2 MB)\n",
            "\u001b[K     |████████████████████████████████| 11.2 MB 55.3 MB/s \n",
            "\u001b[?25hRequirement already satisfied: numpy>=1.21.5 in /usr/local/lib/python3.7/dist-packages (from pygfunction) (1.21.6)\n",
            "Requirement already satisfied: cycler>=0.10 in /usr/local/lib/python3.7/dist-packages (from matplotlib>=3.5.1->pygfunction) (0.11.0)\n",
            "Requirement already satisfied: pyparsing>=2.2.1 in /usr/local/lib/python3.7/dist-packages (from matplotlib>=3.5.1->pygfunction) (3.0.9)\n",
            "Requirement already satisfied: kiwisolver>=1.0.1 in /usr/local/lib/python3.7/dist-packages (from matplotlib>=3.5.1->pygfunction) (1.4.4)\n",
            "Requirement already satisfied: pillow>=6.2.0 in /usr/local/lib/python3.7/dist-packages (from matplotlib>=3.5.1->pygfunction) (7.1.2)\n",
            "Collecting fonttools>=4.22.0\n",
            "  Downloading fonttools-4.37.3-py3-none-any.whl (959 kB)\n",
            "\u001b[K     |████████████████████████████████| 959 kB 54.1 MB/s \n",
            "\u001b[?25hRequirement already satisfied: python-dateutil>=2.7 in /usr/local/lib/python3.7/dist-packages (from matplotlib>=3.5.1->pygfunction) (2.8.2)\n",
            "Requirement already satisfied: packaging>=20.0 in /usr/local/lib/python3.7/dist-packages (from matplotlib>=3.5.1->pygfunction) (21.3)\n",
            "Requirement already satisfied: typing-extensions in /usr/local/lib/python3.7/dist-packages (from kiwisolver>=1.0.1->matplotlib>=3.5.1->pygfunction) (4.1.1)\n",
            "Requirement already satisfied: six>=1.5 in /usr/local/lib/python3.7/dist-packages (from python-dateutil>=2.7->matplotlib>=3.5.1->pygfunction) (1.15.0)\n",
            "Installing collected packages: fonttools, matplotlib, coolprop, pygfunction\n",
            "  Attempting uninstall: matplotlib\n",
            "    Found existing installation: matplotlib 3.2.2\n",
            "    Uninstalling matplotlib-3.2.2:\n",
            "      Successfully uninstalled matplotlib-3.2.2\n",
            "Successfully installed coolprop-6.4.1 fonttools-4.37.3 matplotlib-3.5.3 pygfunction-2.2.1\n"
          ]
        },
        {
          "output_type": "display_data",
          "data": {
            "application/vnd.colab-display-data+json": {
              "pip_warning": {
                "packages": [
                  "matplotlib",
                  "mpl_toolkits"
                ]
              }
            }
          },
          "metadata": {}
        }
      ],
      "source": [
        "pip install pygfunction"
      ]
    },
    {
      "cell_type": "code",
      "source": [
        "pip install pyshp"
      ],
      "metadata": {
        "colab": {
          "base_uri": "https://localhost:8080/"
        },
        "id": "4Iha_BmtOS8Q",
        "outputId": "8681584e-be12-4a8b-e769-893967e9d798"
      },
      "execution_count": 1,
      "outputs": [
        {
          "output_type": "stream",
          "name": "stdout",
          "text": [
            "Looking in indexes: https://pypi.org/simple, https://us-python.pkg.dev/colab-wheels/public/simple/\n",
            "Requirement already satisfied: pyshp in /usr/local/lib/python3.7/dist-packages (2.3.1)\n"
          ]
        }
      ]
    },
    {
      "cell_type": "code",
      "source": [
        "import matplotlib.pyplot as plt\n",
        "import shapefile as shp\n",
        "import numpy as np\n",
        "\n",
        "import scipy.interpolate\n",
        "import scipy.optimize\n",
        "import scipy.signal\n",
        "\n",
        "import pygfunction\n",
        "\n",
        "def evaluate_geothermal_potential(file_name, params, T_target=-1.5, full_output=False):\n",
        "\n",
        "    # ----------------------------------------------------------------------\n",
        "    # Constructs a borehole field.\n",
        "    # ----------------------------------------------------------------------\n",
        "\n",
        "    reader = shp.Reader(file_name)\n",
        "\n",
        "    boreholes = [shape.points[0] for shape in reader.shapes()]\n",
        "\n",
        "    reader.close()\n",
        "\n",
        "    field = [pygfunction.boreholes.Borehole(params[\"L_borehole\"], 0, params[\"r_borehole\"], x, y) for x, y in boreholes]\n",
        "\n",
        "    num_boreholes = len(boreholes)\n",
        "\n",
        "    if full_output:\n",
        "        print(f\"Read {num_borheoles} boreholes.\")\n",
        "\n",
        "    # ----------------------------------------------------------------------\n",
        "    # Sets up parameters.\n",
        "    # ----------------------------------------------------------------------\n",
        "\n",
        "    a_rock = params[\"k_rock\"] / (params[\"rho_rock\"] * params[\"Cp_rock\"])\n",
        "\n",
        "    t_max = params[\"num_years\"] * 365 * 24 * 3600.0\n",
        "\n",
        "    delta_t = 730 * 3600.0\n",
        "\n",
        "    T_initial = params[\"T_surface\"] + params[\"q_geothermal\"] / params[\"k_rock\"] * (0.5 * params[\"L_borehole\"])\n",
        "\n",
        "    # ----------------------------------------------------------------------\n",
        "    # Calculates the g-function for the borehole field.\n",
        "    # ----------------------------------------------------------------------\n",
        "\n",
        "    ts = params[\"L_borehole\"]**2 / (9.0 * a_rock)\n",
        "\n",
        "    t = pygfunction.utilities.time_geometric(delta_t, t_max, 50)\n",
        "    g = pygfunction.gfunction.uniform_temperature(field, t, a_rock, nSegments=32, disp=full_output)\n",
        "\n",
        "    ti = np.arange(delta_t, t_max+delta_t, delta_t)\n",
        "    gi = scipy.interpolate.interp1d(t, g)(ti)\n",
        "\n",
        "    if full_output:\n",
        "        plt.figure()\n",
        "        plt.plot(np.log(t/ts), g, \"b.\")\n",
        "        plt.plot(np.log(ti/ts), gi, \"r-\")\n",
        "        plt.xlabel(\"ln(t/ts)\")\n",
        "        plt.ylabel(\"g-function\")\n",
        "\n",
        "    # ----------------------------------------------------------------------\n",
        "    # Evaluates the mean fluid temperature evolution.\n",
        "    # ----------------------------------------------------------------------\n",
        "\n",
        "    def evaluate_mean_fluid_temperature(E_annual):\n",
        "\n",
        "        monthly_ground_load = params[\"monthly_profile\"] * E_annual\n",
        "\n",
        "        heat_rate = np.ravel(np.tile(monthly_ground_load*1_000_000/730.0, (1, params[\"num_years\"])))\n",
        "\n",
        "        specific_heat_rate = heat_rate / (num_boreholes * params[\"L_borehole\"])\n",
        "        delta_q = np.hstack((-specific_heat_rate[0], np.diff(-specific_heat_rate)))\n",
        "\n",
        "        T_wall = T_initial + scipy.signal.fftconvolve(delta_q, gi/(2.0*np.pi*params[\"k_rock\"]), mode=\"full\")[:len(ti)]\n",
        "        T_fluid = T_wall - params[\"R_borehole\"] * specific_heat_rate\n",
        "\n",
        "        return T_fluid\n",
        "\n",
        "    # ----------------------------------------------------------------------\n",
        "    # Evaluates the cost function.\n",
        "    # ----------------------------------------------------------------------\n",
        "\n",
        "    def cost_function(E_annual):\n",
        "\n",
        "        T_fluid = evaluate_mean_fluid_temperature(E_annual)\n",
        "\n",
        "        return np.abs(np.min(T_fluid) - T_target)\n",
        "\n",
        "    # ----------------------------------------------------------------------\n",
        "    # Finds the maximal annual heat load.\n",
        "    # ----------------------------------------------------------------------\n",
        "\n",
        "    E_max = scipy.optimize.fminbound(cost_function, 1, 100000, xtol=0.001)\n",
        "\n",
        "    T_fluid = evaluate_mean_fluid_temperature(E_max)\n",
        "\n",
        "    if full_output:\n",
        "\n",
        "        plt.figure()\n",
        "        plt.plot(ti/(365*24*3600), T_fluid)\n",
        "        plt.axhline(T_target, ls=\"--\", color=\"k\")\n",
        "        plt.xlabel(\"Year\")\n",
        "        plt.ylabel(u\"Mean fluid temperature [\\xb0C]\")\n",
        "        plt.title(f\"Annual ground load = {E_max:.3f} MWh\")\n",
        "\n",
        "        pygfunction.boreholes.visualize_field(field)\n",
        "\n",
        "    return E_max\n",
        "\n",
        "if __name__ == \"__main__\":\n",
        "\n",
        "\n",
        "    params = {\n",
        "\n",
        "        \"monthly_profile\": np.array([0.177, 0.111, 0.111, 0.082, 0.044, 0.037, 0.032, 0.034, 0.044, 0.086, 0.119, 0.123]),\n",
        "\n",
        "        \"T_surface\": 6.3,\n",
        "        \"q_geothermal\": 0.0446,\n",
        "\n",
        "        \"k_rock\": 3.15,\n",
        "        \"Cp_rock\": 723.0,\n",
        "        \"rho_rock\": 2700.0,\n",
        "\n",
        "        \"L_borehole\": 300.0,\n",
        "        \"r_borehole\": 0.5*0.115,\n",
        "        \"R_borehole\": 0.093,\n",
        "\n",
        "        \"num_years\": 50,\n",
        "    }\n",
        "\n",
        "    print(evaluate_geothermal_potential(\"tri_50m.shp\", params))\n",
        "    print(evaluate_geothermal_potential(\"tri_40m.shp\", params))\n",
        "    print(evaluate_geothermal_potential(\"tri_30m.shp\", params))\n",
        "    print(evaluate_geothermal_potential(\"tri_20m.shp\", params))\n",
        "    print(evaluate_geothermal_potential(\"tri_10m.shp\", params))\n"
      ],
      "metadata": {
        "colab": {
          "base_uri": "https://localhost:8080/"
        },
        "id": "ffZQPtfMOKN5",
        "outputId": "2d7cd860-d43f-4526-9a33-0a28f04d90b1"
      },
      "execution_count": null,
      "outputs": [
        {
          "output_type": "stream",
          "name": "stdout",
          "text": [
            "491.78124029828047\n",
            "629.0570863759511\n",
            "1110.7419872336625\n",
            "1886.908290899318\n"
          ]
        }
      ]
    }
  ]
}